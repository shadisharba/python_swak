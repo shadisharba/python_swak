{
 "cells": [
  {
   "cell_type": "code",
   "execution_count": null,
   "id": "17fda2c6",
   "metadata": {},
   "outputs": [],
   "source": [
    "#|default_exp deck"
   ]
  },
  {
   "cell_type": "code",
   "execution_count": null,
   "id": "19711917",
   "metadata": {},
   "outputs": [],
   "source": [
    "#|hide\n",
    "from nbdev.showdoc import *"
   ]
  },
  {
   "cell_type": "markdown",
   "id": "c671cc14",
   "metadata": {},
   "source": [
    "# Deck\n",
    "> Playing Cards"
   ]
  },
  {
   "cell_type": "code",
   "execution_count": null,
   "id": "eb9aedac",
   "metadata": {},
   "outputs": [],
   "source": [
    "#|export\n",
    "from python_swak.card import *\n",
    "from fastcore.basics import *\n",
    "from fastcore.test import *\n",
    "import random"
   ]
  },
  {
   "cell_type": "code",
   "execution_count": null,
   "id": "621e1fa8",
   "metadata": {},
   "outputs": [],
   "source": [
    "#|export\n",
    "class Deck:\n",
    "    \"Represents a deck of cards\"\n",
    "    def __init__(self): self.cards = [Card(s, r) for s in range(4) for r in range(1, 14)]\n",
    "    def __str__(self): return '; '.join(map(str, self.cards))\n",
    "    def __len__(self): return len(self.cards)\n",
    "    def __contains__(self, card): return card in self.cards\n",
    "    __repr__ = __str__\n",
    "    \n",
    "    def add(self,\n",
    "            card:Card): # Card to add\n",
    "        \"Adds `card` to the deck\"\n",
    "        self.cards.append(card)\n",
    "\n",
    "    def remove(self,\n",
    "               card:Card): # Card to remove\n",
    "        \"Removes `card` from the deck or raises exception if it is not there\"\n",
    "        self.cards.remove(card)\n",
    "\n",
    "    def shuffle(self):\n",
    "        \"Shuffles the cards in this deck\"\n",
    "        random.shuffle(self.cards)"
   ]
  },
  {
   "cell_type": "markdown",
   "id": "2cd4a5ca",
   "metadata": {},
   "source": [
    "A Deck of cards is a collection of `Card` objects:"
   ]
  },
  {
   "cell_type": "code",
   "execution_count": null,
   "id": "5d7183ed",
   "metadata": {},
   "outputs": [
    {
     "data": {
      "text/plain": [
       "A♣️; 2♣️; 3♣️; 4♣️; 5♣️; 6♣️; 7♣️; 8♣️; 9♣️; 10♣️; J♣️; Q♣️; K♣️; A♦️; 2♦️; 3♦️; 4♦️; 5♦️; 6♦️; 7♦️; 8♦️; 9♦️; 10♦️; J♦️; Q♦️; K♦️; A❤️; 2❤️; 3❤️; 4❤️; 5❤️; 6❤️; 7❤️; 8❤️; 9❤️; 10❤️; J❤️; Q❤️; K❤️; A♠️; 2♠️; 3♠️; 4♠️; 5♠️; 6♠️; 7♠️; 8♠️; 9♠️; 10♠️; J♠️; Q♠️; K♠️"
      ]
     },
     "execution_count": null,
     "metadata": {},
     "output_type": "execute_result"
    }
   ],
   "source": [
    "deck = Deck()\n",
    "deck"
   ]
  },
  {
   "cell_type": "markdown",
   "id": "23faaf7c",
   "metadata": {},
   "source": [
    "There are 52 cards in a deck."
   ]
  },
  {
   "cell_type": "code",
   "execution_count": null,
   "id": "ef5f46eb",
   "metadata": {},
   "outputs": [],
   "source": [
    "test_eq(len(deck), 52)"
   ]
  },
  {
   "cell_type": "code",
   "execution_count": null,
   "id": "c56aa19b",
   "metadata": {},
   "outputs": [],
   "source": [
    "#|export\n",
    "@patch\n",
    "def pop(self:Deck,\n",
    "        index=-1): # Card number to pop\n",
    "    \"Removes and returns card `index` from the deck\"\n",
    "    return self.cards.pop(index)"
   ]
  },
  {
   "cell_type": "code",
   "execution_count": null,
   "id": "f342f279",
   "metadata": {},
   "outputs": [
    {
     "data": {
      "text/plain": [
       "K♠️"
      ]
     },
     "execution_count": null,
     "metadata": {},
     "output_type": "execute_result"
    }
   ],
   "source": [
    "deck.pop()"
   ]
  },
  {
   "cell_type": "markdown",
   "id": "5634e82c",
   "metadata": {},
   "source": [
    "There are 51 cards left in the deck now."
   ]
  },
  {
   "cell_type": "code",
   "execution_count": null,
   "id": "18a282b3",
   "metadata": {},
   "outputs": [],
   "source": [
    "test_eq(len(deck), 51)"
   ]
  },
  {
   "cell_type": "markdown",
   "id": "7eaca144-f9f5-4b39-90b3-1ae20efe74a8",
   "metadata": {},
   "source": [
    "You can show the docs for methods not created with `patch` by calling `show_doc`. For example, the code `show_doc(Deck.remove)` produces the following documentation:"
   ]
  },
  {
   "cell_type": "code",
   "execution_count": null,
   "id": "c50e139d",
   "metadata": {},
   "outputs": [
    {
     "data": {
      "text/markdown": [
       "---\n",
       "\n",
       "[source](https://github.com/shadisharba/python_swak/blob/main/python_swak/deck.py#L28){target=\"_blank\" style=\"float:right; font-size:smaller\"}\n",
       "\n",
       "### Deck.remove\n",
       "\n",
       ">      Deck.remove (card:python_swak.card.Card)\n",
       "\n",
       "*Removes `card` from the deck or raises exception if it is not there*\n",
       "\n",
       "|    | **Type** | **Details** |\n",
       "| -- | -------- | ----------- |\n",
       "| card | Card | Card to remove |"
      ],
      "text/plain": [
       "---\n",
       "\n",
       "[source](https://github.com/shadisharba/python_swak/blob/main/python_swak/deck.py#L28){target=\"_blank\" style=\"float:right; font-size:smaller\"}\n",
       "\n",
       "### Deck.remove\n",
       "\n",
       ">      Deck.remove (card:python_swak.card.Card)\n",
       "\n",
       "*Removes `card` from the deck or raises exception if it is not there*\n",
       "\n",
       "|    | **Type** | **Details** |\n",
       "| -- | -------- | ----------- |\n",
       "| card | Card | Card to remove |"
      ]
     },
     "execution_count": null,
     "metadata": {},
     "output_type": "execute_result"
    }
   ],
   "source": [
    "show_doc(Deck.remove)"
   ]
  },
  {
   "cell_type": "markdown",
   "id": "bd425fea",
   "metadata": {},
   "source": [
    "If we remove a card from the Deck we can verify that it no longer exists:"
   ]
  },
  {
   "cell_type": "code",
   "execution_count": null,
   "id": "c8b0a9df",
   "metadata": {},
   "outputs": [],
   "source": [
    "card23 = Card(2, 3)\n",
    "deck.remove(card23)\n",
    "\n",
    "assert card23 not in deck"
   ]
  },
  {
   "cell_type": "markdown",
   "id": "eb9c4a22",
   "metadata": {},
   "source": [
    "\n",
    "\n",
    "However, another card that we haven't removed, such as the `10 of hearts` will still be in the Deck of cards because we haven't removed it:\n"
   ]
  },
  {
   "cell_type": "code",
   "execution_count": null,
   "id": "19862dcf",
   "metadata": {},
   "outputs": [],
   "source": [
    "assert Card(2,10) in deck"
   ]
  },
  {
   "cell_type": "code",
   "execution_count": null,
   "id": "514a27c8",
   "metadata": {},
   "outputs": [],
   "source": [
    "#|export\n",
    "class Hand(Deck):\n",
    "    def __init__(self):\n",
    "        super().__init__()\n",
    "        self.cards.clear()"
   ]
  },
  {
   "cell_type": "code",
   "execution_count": null,
   "id": "4a98c098",
   "metadata": {},
   "outputs": [],
   "source": [
    "hand = Hand()\n",
    "test_eq(len(hand), 0)"
   ]
  },
  {
   "cell_type": "code",
   "execution_count": null,
   "id": "6c49af63",
   "metadata": {},
   "outputs": [],
   "source": [
    "#|export\n",
    "def move_cards(source:Deck, # deck to move cards from\n",
    "               dest:Hand, # destination to move cards to\n",
    "               num:int): # number of cards to move\n",
    "    \"Pop the given number of cards from the deck and move to `dest`.\"\n",
    "    for i in range(num): dest.add(source.pop())"
   ]
  },
  {
   "cell_type": "markdown",
   "id": "10453ddb",
   "metadata": {},
   "source": [
    ":::{.callout-note}\n",
    "\n",
    "You might be wondering: \"what are these comments are following each parameter?\"  These are called [docments](https://fastcore.fast.ai/docments.html), a concise way of documenting your code that also renders beautifully in nbdev.  nbdev also supports rendering [numpy-style docstrings](https://numpydoc.readthedocs.io/en/latest/format.html) as well.\n",
    "\n",
    ":::"
   ]
  },
  {
   "cell_type": "code",
   "execution_count": null,
   "id": "0c20ab66",
   "metadata": {},
   "outputs": [],
   "source": [
    "deck = Deck()\n",
    "deck.shuffle()"
   ]
  },
  {
   "cell_type": "code",
   "execution_count": null,
   "id": "5a8b5842",
   "metadata": {},
   "outputs": [
    {
     "data": {
      "text/plain": [
       "2♠️; 6❤️; 10♠️; 2❤️; 3♣️; 2♦️; 2♣️"
      ]
     },
     "execution_count": null,
     "metadata": {},
     "output_type": "execute_result"
    }
   ],
   "source": [
    "move_cards(deck, hand, 7)\n",
    "hand"
   ]
  },
  {
   "cell_type": "code",
   "execution_count": null,
   "id": "383edce7",
   "metadata": {},
   "outputs": [],
   "source": [
    "test_eq(len(deck), 52-7)\n",
    "test_eq(len(hand), 7)"
   ]
  },
  {
   "cell_type": "markdown",
   "id": "9729442e",
   "metadata": {},
   "source": [
    "## Drawing Cards With Replacement"
   ]
  },
  {
   "cell_type": "markdown",
   "id": "c2c1d858-1f04-458b-9414-10082bce77e6",
   "metadata": {},
   "source": [
    "Let's try something fun with our deck of cards, drawing a card with replacement:"
   ]
  },
  {
   "cell_type": "code",
   "execution_count": null,
   "id": "73c7a1db-5d9d-4d91-9a46-017164dd74a4",
   "metadata": {},
   "outputs": [],
   "source": [
    "#|export\n",
    "def draw_n(n:int, # number of cards to draw\n",
    "           replace:bool=True): # whether or not draw with replacement\n",
    "    \"Draw `n` cards, with replacement iif `replace`\"\n",
    "    d = Deck()\n",
    "    d.shuffle()\n",
    "    if replace: return [d.cards[random.choice(range(len(d.cards)))] for _ in range(n)]\n",
    "    else: return d.cards[:n]"
   ]
  },
  {
   "cell_type": "code",
   "execution_count": null,
   "id": "5ddd3f6c-240d-4053-958a-7957de0856ea",
   "metadata": {},
   "outputs": [
    {
     "data": {
      "text/plain": [
       "[Q♣️, J♠️, 6♣️, 7♦️, 3♠️, 7♦️, 7♣️, 5♠️, 4♠️, 6♣️]"
      ]
     },
     "execution_count": null,
     "metadata": {},
     "output_type": "execute_result"
    }
   ],
   "source": [
    "sample = draw_n(10)\n",
    "sample"
   ]
  },
  {
   "cell_type": "code",
   "execution_count": null,
   "id": "1d4447b9-83c2-44ee-bc21-ff1eb1f2a39e",
   "metadata": {},
   "outputs": [],
   "source": [
    "#|hide\n",
    "assert len(sample) == 10"
   ]
  },
  {
   "cell_type": "markdown",
   "id": "7d371c00",
   "metadata": {},
   "source": [
    "## Visualizing the results"
   ]
  },
  {
   "cell_type": "markdown",
   "id": "81336e90-b521-4103-b432-21aabd36d0b2",
   "metadata": {},
   "source": [
    "This isn't terribly interesting from a statistical perspective.  However, its an example of how you can include visualizations in your nbdev projects!  \n",
    "\n",
    ":::{.callout-note}\n",
    "\n",
    "Notice how we are hiding just the input with `#|echo: false`, so readers can see the output but hide the code.  You can also fold the code using the [`#|code-fold: true`](https://quarto.org/docs/output-formats/html-code.html#folding-code) directive.\n",
    "\n",
    ":::"
   ]
  },
  {
   "cell_type": "code",
   "execution_count": null,
   "id": "c24e6db0-33ca-4a72-b434-2cadf33c8055",
   "metadata": {},
   "outputs": [
    {
     "data": {
      "application/vnd.plotly.v1+json": {
       "config": {
        "plotlyServerURL": "https://plot.ly"
       },
       "data": [
        {
         "alignmentgroup": "True",
         "hovertemplate": "suit=%{x}<br>count=%{y}<extra></extra>",
         "legendgroup": "",
         "marker": {
          "color": "#636efa",
          "pattern": {
           "shape": ""
          }
         },
         "name": "",
         "offsetgroup": "",
         "orientation": "v",
         "showlegend": false,
         "textposition": "auto",
         "type": "bar",
         "x": [
          "♠️",
          "♣️",
          "♦️",
          "❤️"
         ],
         "xaxis": "x",
         "y": [
          1266,
          1237,
          1259,
          1238
         ],
         "yaxis": "y"
        }
       ],
       "layout": {
        "barmode": "relative",
        "legend": {
         "tracegroupgap": 0
        },
        "template": {
         "data": {
          "bar": [
           {
            "error_x": {
             "color": "#2a3f5f"
            },
            "error_y": {
             "color": "#2a3f5f"
            },
            "marker": {
             "line": {
              "color": "#E5ECF6",
              "width": 0.5
             },
             "pattern": {
              "fillmode": "overlay",
              "size": 10,
              "solidity": 0.2
             }
            },
            "type": "bar"
           }
          ],
          "barpolar": [
           {
            "marker": {
             "line": {
              "color": "#E5ECF6",
              "width": 0.5
             },
             "pattern": {
              "fillmode": "overlay",
              "size": 10,
              "solidity": 0.2
             }
            },
            "type": "barpolar"
           }
          ],
          "carpet": [
           {
            "aaxis": {
             "endlinecolor": "#2a3f5f",
             "gridcolor": "white",
             "linecolor": "white",
             "minorgridcolor": "white",
             "startlinecolor": "#2a3f5f"
            },
            "baxis": {
             "endlinecolor": "#2a3f5f",
             "gridcolor": "white",
             "linecolor": "white",
             "minorgridcolor": "white",
             "startlinecolor": "#2a3f5f"
            },
            "type": "carpet"
           }
          ],
          "choropleth": [
           {
            "colorbar": {
             "outlinewidth": 0,
             "ticks": ""
            },
            "type": "choropleth"
           }
          ],
          "contour": [
           {
            "colorbar": {
             "outlinewidth": 0,
             "ticks": ""
            },
            "colorscale": [
             [
              0,
              "#0d0887"
             ],
             [
              0.1111111111111111,
              "#46039f"
             ],
             [
              0.2222222222222222,
              "#7201a8"
             ],
             [
              0.3333333333333333,
              "#9c179e"
             ],
             [
              0.4444444444444444,
              "#bd3786"
             ],
             [
              0.5555555555555556,
              "#d8576b"
             ],
             [
              0.6666666666666666,
              "#ed7953"
             ],
             [
              0.7777777777777778,
              "#fb9f3a"
             ],
             [
              0.8888888888888888,
              "#fdca26"
             ],
             [
              1,
              "#f0f921"
             ]
            ],
            "type": "contour"
           }
          ],
          "contourcarpet": [
           {
            "colorbar": {
             "outlinewidth": 0,
             "ticks": ""
            },
            "type": "contourcarpet"
           }
          ],
          "heatmap": [
           {
            "colorbar": {
             "outlinewidth": 0,
             "ticks": ""
            },
            "colorscale": [
             [
              0,
              "#0d0887"
             ],
             [
              0.1111111111111111,
              "#46039f"
             ],
             [
              0.2222222222222222,
              "#7201a8"
             ],
             [
              0.3333333333333333,
              "#9c179e"
             ],
             [
              0.4444444444444444,
              "#bd3786"
             ],
             [
              0.5555555555555556,
              "#d8576b"
             ],
             [
              0.6666666666666666,
              "#ed7953"
             ],
             [
              0.7777777777777778,
              "#fb9f3a"
             ],
             [
              0.8888888888888888,
              "#fdca26"
             ],
             [
              1,
              "#f0f921"
             ]
            ],
            "type": "heatmap"
           }
          ],
          "heatmapgl": [
           {
            "colorbar": {
             "outlinewidth": 0,
             "ticks": ""
            },
            "colorscale": [
             [
              0,
              "#0d0887"
             ],
             [
              0.1111111111111111,
              "#46039f"
             ],
             [
              0.2222222222222222,
              "#7201a8"
             ],
             [
              0.3333333333333333,
              "#9c179e"
             ],
             [
              0.4444444444444444,
              "#bd3786"
             ],
             [
              0.5555555555555556,
              "#d8576b"
             ],
             [
              0.6666666666666666,
              "#ed7953"
             ],
             [
              0.7777777777777778,
              "#fb9f3a"
             ],
             [
              0.8888888888888888,
              "#fdca26"
             ],
             [
              1,
              "#f0f921"
             ]
            ],
            "type": "heatmapgl"
           }
          ],
          "histogram": [
           {
            "marker": {
             "pattern": {
              "fillmode": "overlay",
              "size": 10,
              "solidity": 0.2
             }
            },
            "type": "histogram"
           }
          ],
          "histogram2d": [
           {
            "colorbar": {
             "outlinewidth": 0,
             "ticks": ""
            },
            "colorscale": [
             [
              0,
              "#0d0887"
             ],
             [
              0.1111111111111111,
              "#46039f"
             ],
             [
              0.2222222222222222,
              "#7201a8"
             ],
             [
              0.3333333333333333,
              "#9c179e"
             ],
             [
              0.4444444444444444,
              "#bd3786"
             ],
             [
              0.5555555555555556,
              "#d8576b"
             ],
             [
              0.6666666666666666,
              "#ed7953"
             ],
             [
              0.7777777777777778,
              "#fb9f3a"
             ],
             [
              0.8888888888888888,
              "#fdca26"
             ],
             [
              1,
              "#f0f921"
             ]
            ],
            "type": "histogram2d"
           }
          ],
          "histogram2dcontour": [
           {
            "colorbar": {
             "outlinewidth": 0,
             "ticks": ""
            },
            "colorscale": [
             [
              0,
              "#0d0887"
             ],
             [
              0.1111111111111111,
              "#46039f"
             ],
             [
              0.2222222222222222,
              "#7201a8"
             ],
             [
              0.3333333333333333,
              "#9c179e"
             ],
             [
              0.4444444444444444,
              "#bd3786"
             ],
             [
              0.5555555555555556,
              "#d8576b"
             ],
             [
              0.6666666666666666,
              "#ed7953"
             ],
             [
              0.7777777777777778,
              "#fb9f3a"
             ],
             [
              0.8888888888888888,
              "#fdca26"
             ],
             [
              1,
              "#f0f921"
             ]
            ],
            "type": "histogram2dcontour"
           }
          ],
          "mesh3d": [
           {
            "colorbar": {
             "outlinewidth": 0,
             "ticks": ""
            },
            "type": "mesh3d"
           }
          ],
          "parcoords": [
           {
            "line": {
             "colorbar": {
              "outlinewidth": 0,
              "ticks": ""
             }
            },
            "type": "parcoords"
           }
          ],
          "pie": [
           {
            "automargin": true,
            "type": "pie"
           }
          ],
          "scatter": [
           {
            "fillpattern": {
             "fillmode": "overlay",
             "size": 10,
             "solidity": 0.2
            },
            "type": "scatter"
           }
          ],
          "scatter3d": [
           {
            "line": {
             "colorbar": {
              "outlinewidth": 0,
              "ticks": ""
             }
            },
            "marker": {
             "colorbar": {
              "outlinewidth": 0,
              "ticks": ""
             }
            },
            "type": "scatter3d"
           }
          ],
          "scattercarpet": [
           {
            "marker": {
             "colorbar": {
              "outlinewidth": 0,
              "ticks": ""
             }
            },
            "type": "scattercarpet"
           }
          ],
          "scattergeo": [
           {
            "marker": {
             "colorbar": {
              "outlinewidth": 0,
              "ticks": ""
             }
            },
            "type": "scattergeo"
           }
          ],
          "scattergl": [
           {
            "marker": {
             "colorbar": {
              "outlinewidth": 0,
              "ticks": ""
             }
            },
            "type": "scattergl"
           }
          ],
          "scattermapbox": [
           {
            "marker": {
             "colorbar": {
              "outlinewidth": 0,
              "ticks": ""
             }
            },
            "type": "scattermapbox"
           }
          ],
          "scatterpolar": [
           {
            "marker": {
             "colorbar": {
              "outlinewidth": 0,
              "ticks": ""
             }
            },
            "type": "scatterpolar"
           }
          ],
          "scatterpolargl": [
           {
            "marker": {
             "colorbar": {
              "outlinewidth": 0,
              "ticks": ""
             }
            },
            "type": "scatterpolargl"
           }
          ],
          "scatterternary": [
           {
            "marker": {
             "colorbar": {
              "outlinewidth": 0,
              "ticks": ""
             }
            },
            "type": "scatterternary"
           }
          ],
          "surface": [
           {
            "colorbar": {
             "outlinewidth": 0,
             "ticks": ""
            },
            "colorscale": [
             [
              0,
              "#0d0887"
             ],
             [
              0.1111111111111111,
              "#46039f"
             ],
             [
              0.2222222222222222,
              "#7201a8"
             ],
             [
              0.3333333333333333,
              "#9c179e"
             ],
             [
              0.4444444444444444,
              "#bd3786"
             ],
             [
              0.5555555555555556,
              "#d8576b"
             ],
             [
              0.6666666666666666,
              "#ed7953"
             ],
             [
              0.7777777777777778,
              "#fb9f3a"
             ],
             [
              0.8888888888888888,
              "#fdca26"
             ],
             [
              1,
              "#f0f921"
             ]
            ],
            "type": "surface"
           }
          ],
          "table": [
           {
            "cells": {
             "fill": {
              "color": "#EBF0F8"
             },
             "line": {
              "color": "white"
             }
            },
            "header": {
             "fill": {
              "color": "#C8D4E3"
             },
             "line": {
              "color": "white"
             }
            },
            "type": "table"
           }
          ]
         },
         "layout": {
          "annotationdefaults": {
           "arrowcolor": "#2a3f5f",
           "arrowhead": 0,
           "arrowwidth": 1
          },
          "autotypenumbers": "strict",
          "coloraxis": {
           "colorbar": {
            "outlinewidth": 0,
            "ticks": ""
           }
          },
          "colorscale": {
           "diverging": [
            [
             0,
             "#8e0152"
            ],
            [
             0.1,
             "#c51b7d"
            ],
            [
             0.2,
             "#de77ae"
            ],
            [
             0.3,
             "#f1b6da"
            ],
            [
             0.4,
             "#fde0ef"
            ],
            [
             0.5,
             "#f7f7f7"
            ],
            [
             0.6,
             "#e6f5d0"
            ],
            [
             0.7,
             "#b8e186"
            ],
            [
             0.8,
             "#7fbc41"
            ],
            [
             0.9,
             "#4d9221"
            ],
            [
             1,
             "#276419"
            ]
           ],
           "sequential": [
            [
             0,
             "#0d0887"
            ],
            [
             0.1111111111111111,
             "#46039f"
            ],
            [
             0.2222222222222222,
             "#7201a8"
            ],
            [
             0.3333333333333333,
             "#9c179e"
            ],
            [
             0.4444444444444444,
             "#bd3786"
            ],
            [
             0.5555555555555556,
             "#d8576b"
            ],
            [
             0.6666666666666666,
             "#ed7953"
            ],
            [
             0.7777777777777778,
             "#fb9f3a"
            ],
            [
             0.8888888888888888,
             "#fdca26"
            ],
            [
             1,
             "#f0f921"
            ]
           ],
           "sequentialminus": [
            [
             0,
             "#0d0887"
            ],
            [
             0.1111111111111111,
             "#46039f"
            ],
            [
             0.2222222222222222,
             "#7201a8"
            ],
            [
             0.3333333333333333,
             "#9c179e"
            ],
            [
             0.4444444444444444,
             "#bd3786"
            ],
            [
             0.5555555555555556,
             "#d8576b"
            ],
            [
             0.6666666666666666,
             "#ed7953"
            ],
            [
             0.7777777777777778,
             "#fb9f3a"
            ],
            [
             0.8888888888888888,
             "#fdca26"
            ],
            [
             1,
             "#f0f921"
            ]
           ]
          },
          "colorway": [
           "#636efa",
           "#EF553B",
           "#00cc96",
           "#ab63fa",
           "#FFA15A",
           "#19d3f3",
           "#FF6692",
           "#B6E880",
           "#FF97FF",
           "#FECB52"
          ],
          "font": {
           "color": "#2a3f5f"
          },
          "geo": {
           "bgcolor": "white",
           "lakecolor": "white",
           "landcolor": "#E5ECF6",
           "showlakes": true,
           "showland": true,
           "subunitcolor": "white"
          },
          "hoverlabel": {
           "align": "left"
          },
          "hovermode": "closest",
          "mapbox": {
           "style": "light"
          },
          "paper_bgcolor": "white",
          "plot_bgcolor": "#E5ECF6",
          "polar": {
           "angularaxis": {
            "gridcolor": "white",
            "linecolor": "white",
            "ticks": ""
           },
           "bgcolor": "#E5ECF6",
           "radialaxis": {
            "gridcolor": "white",
            "linecolor": "white",
            "ticks": ""
           }
          },
          "scene": {
           "xaxis": {
            "backgroundcolor": "#E5ECF6",
            "gridcolor": "white",
            "gridwidth": 2,
            "linecolor": "white",
            "showbackground": true,
            "ticks": "",
            "zerolinecolor": "white"
           },
           "yaxis": {
            "backgroundcolor": "#E5ECF6",
            "gridcolor": "white",
            "gridwidth": 2,
            "linecolor": "white",
            "showbackground": true,
            "ticks": "",
            "zerolinecolor": "white"
           },
           "zaxis": {
            "backgroundcolor": "#E5ECF6",
            "gridcolor": "white",
            "gridwidth": 2,
            "linecolor": "white",
            "showbackground": true,
            "ticks": "",
            "zerolinecolor": "white"
           }
          },
          "shapedefaults": {
           "line": {
            "color": "#2a3f5f"
           }
          },
          "ternary": {
           "aaxis": {
            "gridcolor": "white",
            "linecolor": "white",
            "ticks": ""
           },
           "baxis": {
            "gridcolor": "white",
            "linecolor": "white",
            "ticks": ""
           },
           "bgcolor": "#E5ECF6",
           "caxis": {
            "gridcolor": "white",
            "linecolor": "white",
            "ticks": ""
           }
          },
          "title": {
           "x": 0.05
          },
          "xaxis": {
           "automargin": true,
           "gridcolor": "white",
           "linecolor": "white",
           "ticks": "",
           "title": {
            "standoff": 15
           },
           "zerolinecolor": "white",
           "zerolinewidth": 2
          },
          "yaxis": {
           "automargin": true,
           "gridcolor": "white",
           "linecolor": "white",
           "ticks": "",
           "title": {
            "standoff": 15
           },
           "zerolinecolor": "white",
           "zerolinewidth": 2
          }
         }
        },
        "title": {
         "text": "Count By Suit On 5000 Random Draws With Replacement"
        },
        "xaxis": {
         "anchor": "y",
         "domain": [
          0,
          1
         ],
         "title": {
          "text": "suit"
         }
        },
        "yaxis": {
         "anchor": "x",
         "domain": [
          0,
          1
         ],
         "title": {
          "text": "count"
         }
        }
       }
      }
     },
     "metadata": {},
     "output_type": "display_data"
    }
   ],
   "source": [
    "#|echo: false\n",
    "#|eval: false\n",
    "\n",
    "import pandas as pd\n",
    "import plotly.express as px\n",
    "\n",
    "sampledf = pd.DataFrame([{'suit': c.suit_nm, 'rank': c.rank_nm } for c in draw_n(5000)])\n",
    "fig = px.bar(sampledf.groupby('suit').count().reset_index().rename(columns={'rank':'count'}),\n",
    "             x='suit', y='count',  title=\"Count By Suit On 5000 Random Draws With Replacement\")\n",
    "fig.show()"
   ]
  },
  {
   "cell_type": "markdown",
   "id": "679347c3",
   "metadata": {},
   "source": [
    "## Create a CLI (Advanced)"
   ]
  },
  {
   "cell_type": "markdown",
   "id": "5974cc3b-38c2-4785-b16b-875ed747116f",
   "metadata": {},
   "source": [
    "We can create a CLI with `@call parse`"
   ]
  },
  {
   "cell_type": "code",
   "execution_count": null,
   "id": "c2187043-48d4-4fc9-9e93-d257625227f4",
   "metadata": {},
   "outputs": [],
   "source": [
    "#|export\n",
    "from pathlib import Path\n",
    "from fastcore.script import call_parse"
   ]
  },
  {
   "cell_type": "code",
   "execution_count": null,
   "id": "4cc7081d-f9d5-48f8-a49c-f7155ebd304b",
   "metadata": {},
   "outputs": [],
   "source": [
    "#|export\n",
    "@call_parse\n",
    "def draw_cards(n:int, # number of cards to draw\n",
    "               replace:bool=True, # whether or not draw with replacement\n",
    "               outfile:str=None): # output file, defaults to stdout\n",
    "    \"Draw `n` cards optionally with replacement\"\n",
    "    cards = draw_n(n, replace=replace)\n",
    "    strcards = '\\n'.join(map(str, cards))\n",
    "    print(strcards) if outfile is None else Path(outfile).write_text(strcards, encoding=\"utf8\")"
   ]
  },
  {
   "cell_type": "markdown",
   "id": "1eb8ffc6-c3e6-48cf-ac8c-68ad95e9de82",
   "metadata": {},
   "source": [
    ":::{.callout-tip}\n",
    "\n",
    "We normally wouldn't repeat all of these arguments when one function is wrapping another one.  Instead, we would use [delegates](https://fastcore.fast.ai/meta.html#delegates).  However, we wanted to keep this tutorial simple, so we didn't use that here. \n",
    "\n",
    ":::"
   ]
  },
  {
   "cell_type": "code",
   "execution_count": null,
   "id": "4db4fb3e-fb41-4ac7-981c-2ccb770a545a",
   "metadata": {},
   "outputs": [
    {
     "name": "stdout",
     "output_type": "stream",
     "text": [
      "4❤️\n",
      "A❤️\n",
      "4❤️\n",
      "5❤️\n",
      "Q♠️\n",
      "10♦️\n",
      "9❤️\n",
      "4♣️\n",
      "K❤️\n",
      "J♣️\n"
     ]
    }
   ],
   "source": [
    "fname = 'sample.txt'\n",
    "draw_cards(10, outfile=None)\n",
    "# print(Path(fname).read_text(encoding=\"utf8\"))"
   ]
  },
  {
   "cell_type": "code",
   "execution_count": null,
   "id": "6d42ea80",
   "metadata": {},
   "outputs": [],
   "source": []
  }
 ],
 "metadata": {
  "kernelspec": {
   "display_name": "python3",
   "language": "python",
   "name": "python3"
  }
 },
 "nbformat": 4,
 "nbformat_minor": 5
}
