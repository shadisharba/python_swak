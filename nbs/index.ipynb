{
 "cells": [
  {
   "cell_type": "code",
   "execution_count": null,
   "metadata": {},
   "outputs": [],
   "source": [
    "#| hide\n",
    "from python_swak.core import *"
   ]
  },
  {
   "cell_type": "markdown",
   "metadata": {},
   "source": [
    "# [python_swak](https://shadisharba.github.io/python_swak/)\n",
    "\n",
    "> Python Swiss Army knife (SWAK)"
   ]
  },
  {
   "cell_type": "markdown",
   "metadata": {},
   "source": [
    "This file will become your README and also the index of your documentation."
   ]
  },
  {
   "cell_type": "markdown",
   "metadata": {},
   "source": [
    "## Developer Guide"
   ]
  },
  {
   "cell_type": "markdown",
   "metadata": {},
   "source": [
    "If you are new to using `nbdev` here are some useful pointers to get you started."
   ]
  },
  {
   "cell_type": "markdown",
   "metadata": {},
   "source": [
    "### Install python_swak in Development mode"
   ]
  },
  {
   "cell_type": "markdown",
   "metadata": {},
   "source": [
    "```sh\n",
    "# make sure python_swak package is installed in development mode\n",
    "$ pip install -e .\n",
    "\n",
    "# make changes under nbs/ directory\n",
    "# ...\n",
    "\n",
    "# compile to have changes apply to python_swak\n",
    "$ nbdev_prepare\n",
    "```"
   ]
  },
  {
   "cell_type": "markdown",
   "metadata": {},
   "source": [
    "## Usage"
   ]
  },
  {
   "cell_type": "markdown",
   "metadata": {},
   "source": [
    "### Installation"
   ]
  },
  {
   "cell_type": "markdown",
   "metadata": {},
   "source": [
    "Install latest from the GitHub [repository][repo]:\n",
    "\n",
    "```sh\n",
    "$ pip install git+https://github.com/shadisharba/python_swak.git\n",
    "```\n",
    "\n",
    "or from [conda][conda]\n",
    "\n",
    "```sh\n",
    "$ conda install -c shadisharba python_swak\n",
    "```\n",
    "\n",
    "or from [pypi][pypi]\n",
    "\n",
    "\n",
    "```sh\n",
    "$ pip install python_swak\n",
    "```\n",
    "\n",
    "\n",
    "[repo]: https://github.com/shadisharba/python_swak\n",
    "[docs]: https://shadisharba.github.io/python_swak/\n",
    "[pypi]: https://pypi.org/project/python_swak/\n",
    "[conda]: https://anaconda.org/shadisharba/python_swak"
   ]
  },
  {
   "cell_type": "markdown",
   "metadata": {},
   "source": [
    "### Documentation"
   ]
  },
  {
   "cell_type": "markdown",
   "metadata": {},
   "source": [
    "Documentation can be found hosted on this GitHub [repository][repo]'s [pages][docs]. Additionally you can find package manager specific guidelines on [conda][conda] and [pypi][pypi] respectively.\n",
    "\n",
    "[repo]: https://github.com/shadisharba/python_swak\n",
    "[docs]: https://shadisharba.github.io/python_swak/\n",
    "[pypi]: https://pypi.org/project/python_swak/\n",
    "[conda]: https://anaconda.org/shadisharba/python_swak"
   ]
  },
  {
   "cell_type": "markdown",
   "metadata": {},
   "source": [
    "## How to use"
   ]
  },
  {
   "cell_type": "markdown",
   "metadata": {},
   "source": [
    "Fill me in please! Don't forget code examples:"
   ]
  },
  {
   "cell_type": "code",
   "execution_count": null,
   "metadata": {},
   "outputs": [
    {
     "data": {
      "text/plain": [
       "2"
      ]
     },
     "execution_count": null,
     "metadata": {},
     "output_type": "execute_result"
    }
   ],
   "source": [
    "1+1"
   ]
  },
  {
   "cell_type": "code",
   "execution_count": null,
   "metadata": {},
   "outputs": [],
   "source": []
  },
  {
   "cell_type": "markdown",
   "metadata": {},
   "source": [
    "#### How to start a new nbdev project\n",
    "\n",
    "```\n",
    "git clone <link_to_an_almost_empty_repo_with_one_commit>\n",
    "cd <repo_name>\n",
    "nbdev_new # does things including nbdev_install_hooks\n",
    "nbdev_prepare # Export, test, and clean notebooks, and render README if needed\n",
    "nbdev_preview # Preview the documentation locally\n",
    "```"
   ]
  },
  {
   "cell_type": "markdown",
   "metadata": {},
   "source": [
    "#### [Deck of Cards](https://github.com/fastai/cards_deck/tree/main)\n",
    "\n",
    "The `draw_cards` cli: a handy cli you can use to draw cards as well!"
   ]
  },
  {
   "cell_type": "code",
   "execution_count": null,
   "metadata": {},
   "outputs": [
    {
     "name": "stdout",
     "output_type": "stream",
     "text": [
      "usage: draw_cards [-h] [--replace] [--outfile OUTFILE] n\n",
      "\n",
      "Draw `n` cards optionally with replacement\n",
      "\n",
      "positional arguments:\n",
      "  n                  number of cards to draw\n",
      "\n",
      "options:\n",
      "  -h, --help         show this help message and exit\n",
      "  --replace          whether or not draw with replacement (default: False)\n",
      "  --outfile OUTFILE  output file, defaults to stdout\n"
     ]
    }
   ],
   "source": [
    "!draw_cards -h"
   ]
  },
  {
   "cell_type": "code",
   "execution_count": null,
   "metadata": {},
   "outputs": [
    {
     "name": "stdout",
     "output_type": "stream",
     "text": [
      "A♣️\n",
      "K♣️\n",
      "J❤️\n",
      "4♦️\n",
      "Q❤️\n",
      "6♠️\n",
      "5♠️\n",
      "2❤️\n",
      "5♦️\n",
      "Q♣️\n"
     ]
    }
   ],
   "source": [
    "!draw_cards 10"
   ]
  },
  {
   "cell_type": "code",
   "execution_count": null,
   "metadata": {},
   "outputs": [],
   "source": []
  }
 ],
 "metadata": {
  "kernelspec": {
   "display_name": "python3",
   "language": "python",
   "name": "python3"
  }
 },
 "nbformat": 4,
 "nbformat_minor": 4
}
